{
 "cells": [
  {
   "cell_type": "markdown",
   "metadata": {},
   "source": [
    "# PHASE 4"
   ]
  },
  {
   "cell_type": "markdown",
   "metadata": {},
   "source": [
    "## PART 1: K-NEAREST NEIGHBOR(KNN) ALGO"
   ]
  },
  {
   "cell_type": "markdown",
   "metadata": {},
   "source": [
    "* KNN is used for classification & regression by leveraging nearby data points(neighbors).  \n",
    "__Steps__:\n",
    "> 1. Choose a point to predict.\n",
    "> 2. Find the K-nearest points (K is a predefined constant like 1,  3, 5).\n",
    "> 3. For **classification**: Predict by taking the most common class among the K neighbors.\n",
    "> 4. For **regression**: Predict by averaging the target values of the K neighbors.\n",
    "> 5. **Weighted Prediction**: KNN can also weigh the neighbors' influence based on their distance from the point being predicted.\n",
    "   \n",
    "> Choosing the right distance metric is crucial to the success of KNN."
   ]
  },
  {
   "cell_type": "markdown",
   "metadata": {},
   "source": [
    "* K-means is a related algorithm but it's used for unsupervised learning and clustering.\n",
    "* In K-means, K represents the number of clusters, not neighbors.\n",
    "* It's an iterative algorithm that groups points based on a distance metric until convergence."
   ]
  },
  {
   "cell_type": "markdown",
   "metadata": {},
   "source": [
    "### **A}** DISTANCE METRICS"
   ]
  },
  {
   "cell_type": "markdown",
   "metadata": {},
   "source": [
    "> * Distance metrics quantify similarity btn data points{algo like KNN}.   \n",
    "> * Data pts closer in distance are more likely to belong to the same class.   \n",
    "> * **Application**: Each dataset column represents a dimension, allowing distance measurement between points in a multi-dimensional space."
   ]
  },
  {
   "cell_type": "markdown",
   "metadata": {},
   "source": [
    "> MANHATTAN DISTANCE {c=1}  \n",
    "* It measures the distance by traveling along grid axes. {Walking through a city block by block}. \n",
    "* Applied to higher dimensions(3D SPACE)\n",
    "* **Best for grid based problem & works well in high dimension spaces**\n",
    "> EUCLIDEAN DISTANCE {c=2}  \n",
    "* It measures the straight line distance btn 2 points using pythagorean theorem.\n",
    "* **Most Common. Best when shortest path is needed** \n",
    "> MINKOWSKI DISTANCE {c>2, cubic,fifth}  \n",
    "* Generalization of Manhattan & Euclidean Distance\n",
    "* Defined by parameter of c,changes the exponent of the sum of absolute differences.\n",
    "* Applied in ML{in KNN and choice of c}\n",
    "* **Flexible coz it encompasses Manhattan & Euclidean by changing the parameter c**"
   ]
  },
  {
   "cell_type": "code",
   "execution_count": 1,
   "metadata": {},
   "outputs": [
    {
     "data": {
      "text/plain": [
       "7"
      ]
     },
     "execution_count": 1,
     "metadata": {},
     "output_type": "execute_result"
    }
   ],
   "source": [
    "# Manhattan Distance\n",
    "A = (2,3,5)\n",
    "B = (1,-1,3)\n",
    "manhattan_dist = sum(abs(A[i] - B[i]) for i in range(3))\n",
    "manhattan_dist"
   ]
  },
  {
   "cell_type": "code",
   "execution_count": 6,
   "metadata": {},
   "outputs": [
    {
     "name": "stdout",
     "output_type": "stream",
     "text": [
      "4.58257569495584\n",
      "4.58\n"
     ]
    }
   ],
   "source": [
    "# Euclidean Distance\n",
    "from math import sqrt\n",
    "A = (2,3,5)\n",
    "B = (1,-1,3)\n",
    "euclidean_distance = sqrt(sum((A[i] -B[i])**2 for i in range(3)))\n",
    "print(euclidean_distance)\n",
    "print(f\"{euclidean_distance:.2f}\")"
   ]
  },
  {
   "cell_type": "code",
   "execution_count": 8,
   "metadata": {},
   "outputs": [
    {
     "name": "stdout",
     "output_type": "stream",
     "text": [
      "4.179339196381232\n",
      "4.18\n"
     ]
    }
   ],
   "source": [
    "# Minkowski Distance\n",
    "import numpy as np\n",
    "A = (2,3,5)\n",
    "B = (1,-1,3)\n",
    "c = 3\n",
    "# Calculate the Minkowski distance btn points A and B\n",
    "# 1. For each dimension, calculate the absolute difference between A[i] and B[i].\n",
    "# 2. Raise that difference to the power of c.\n",
    "# 3. Sum these powered differences.\n",
    "# 4. Take the c-th root of the sum: raise the sum to the power of 1/c).\n",
    "minkowski_distance = np.power(sum(np.abs(A[i] - B[i])**c for i in range(3)),1/c)\n",
    "print(minkowski_distance)\n",
    "print(f\"{minkowski_distance:.2f}\")"
   ]
  },
  {
   "cell_type": "markdown",
   "metadata": {},
   "source": [
    "### **B}** K- NEAREST NEIGHBORS"
   ]
  },
  {
   "cell_type": "markdown",
   "metadata": {},
   "source": [
    "> OVERVIEW \n",
    "* It's a supersised learning algo for classification & regression tasks.\n",
    "* It's principle is that smilar data pts are close together and distance metrics help identify similarity.\n",
    "> FIT STAGE\n",
    "* It stores training data with labels without calculating distances.\n",
    "> PREDICTION STAGE\n",
    "* Calculates the distances between the new data pt and every data pt in the training set.\n",
    "* Identifies the closest K pt(neighbours) and assigns a class based on the majority vote among those neighbors.\n",
    "> DISTANCE METRICS\n",
    "* Uses distance metrics like Manhattan, Euclidean or Minkowski depending on the problem\n",
    "> EVALUATING PERFORMANCE\n",
    "* **FOR CLASSIFICATION**: performance is measures using Accuracy, Precision, Recall and F1-Score.\n",
    "* **FOR REGRESSION**: it averages the target values of the K nearest neighbors."
   ]
  },
  {
   "cell_type": "code",
   "execution_count": null,
   "metadata": {},
   "outputs": [],
   "source": []
  }
 ],
 "metadata": {
  "kernelspec": {
   "display_name": "learn-env",
   "language": "python",
   "name": "python3"
  },
  "language_info": {
   "codemirror_mode": {
    "name": "ipython",
    "version": 3
   },
   "file_extension": ".py",
   "mimetype": "text/x-python",
   "name": "python",
   "nbconvert_exporter": "python",
   "pygments_lexer": "ipython3",
   "version": "3.8.5"
  }
 },
 "nbformat": 4,
 "nbformat_minor": 2
}
